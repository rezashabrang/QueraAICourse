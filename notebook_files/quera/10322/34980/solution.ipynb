{
 "cells": [
  {
   "cell_type": "markdown",
   "metadata": {},
   "source": [
    "## اضافه کردن کتابخانه‌های مورد نیاز"
   ]
  },
  {
   "cell_type": "code",
   "execution_count": 1,
   "metadata": {},
   "outputs": [],
   "source": [
    "import pandas as pd\n",
    "from sklearn.ensemble import RandomForestClassifier\n",
    "from sklearn.model_selection import train_test_split\n",
    "from sklearn.metrics import accuracy_score\n",
    "import joblib\n",
    "import sklearn.metrics as metrics"
   ]
  },
  {
   "cell_type": "markdown",
   "metadata": {},
   "source": [
    "## خواندن داده\n",
    "- ستون `Survived` هدف مدل برای پیش‌بینی است و مقدار دودویی زنده ماندن، یا نماندن فرد را در خود دارد."
   ]
  },
  {
   "cell_type": "code",
   "execution_count": 7,
   "metadata": {},
   "outputs": [],
   "source": [
    "df = pd.read_csv('titanic.csv')"
   ]
  },
  {
   "cell_type": "code",
   "execution_count": 8,
   "metadata": {},
   "outputs": [],
   "source": [
    "X = df.drop(['Survived'], axis = 1).values\n",
    "y = df['Survived']\n"
   ]
  },
  {
   "cell_type": "markdown",
   "metadata": {},
   "source": [
    "### تقسیم داده به دو قسمت آموزش و آزمون\n",
    "برای نتیجه برای همه یکسان و قابل داوری باشید، هنگام تقسیم کردن داده‌ها `test_size` را برابر `0.33` و `random_state` را برابر `42` قرار دهید."
   ]
  },
  {
   "cell_type": "code",
   "execution_count": 9,
   "metadata": {},
   "outputs": [],
   "source": [
    "X_train,X_test,y_train,y_test = train_test_split(X,y,test_size = 0.33,random_state = 42)"
   ]
  },
  {
   "cell_type": "markdown",
   "metadata": {},
   "source": [
    "یک جنگل تصادفی حاوی ۱۵ درخت تصمیم و `random_state=42` بسازید و آن را با داده‌های آموزش برازش کنید.\n",
    "\n",
    "سپس دقت آن را روی داده‌های آزمون بسنجید."
   ]
  },
  {
   "cell_type": "code",
   "execution_count": 10,
   "metadata": {},
   "outputs": [
    {
     "name": "stdout",
     "output_type": "stream",
     "text": [
      "accuracy of random forest model : 0.7891156462585034\n",
      "f1_score of random forest model : 0.7155963302752293\n"
     ]
    }
   ],
   "source": [
    "random_forest = RandomForestClassifier(n_estimators = 15, random_state = 42)\n",
    "random_forest.fit(X_train,y_train)\n",
    "y_pred_random_forest = random_forest.predict(X_test)\n",
    "acc_random_forest = accuracy_score(y_test, y_pred_random_forest)\n",
    "f1_random_forest = metrics.f1_score(y_test,y_pred_random_forest)\n",
    "print(\"accuracy of random forest model :\", acc_random_forest)\n",
    "print(\"f1_score of random forest model :\", f1_random_forest)\n"
   ]
  },
  {
   "cell_type": "markdown",
   "metadata": {},
   "source": [
    "مدل خود را به وسیله‌ی ماژول `joblib` در `model.pkl` ذخیره کنید."
   ]
  },
  {
   "cell_type": "code",
   "execution_count": 11,
   "metadata": {},
   "outputs": [
    {
     "data": {
      "text/plain": [
       "['model.pkl']"
      ]
     },
     "execution_count": 11,
     "metadata": {},
     "output_type": "execute_result"
    }
   ],
   "source": [
    "joblib.dump(random_forest,'model.pkl')"
   ]
  },
  {
   "cell_type": "markdown",
   "metadata": {},
   "source": [
    "## ارسال پاسخ\n",
    "ابتدا نوت‌بوک را ذخیره و سپس گزینه‌ی ارسال پاسخ را انتخاب کنید تا مدل به همراه این نوت‌بوک ارسال شود."
   ]
  },
  {
   "cell_type": "code",
   "execution_count": null,
   "metadata": {},
   "outputs": [],
   "source": []
  },
  {
   "cell_type": "code",
   "execution_count": null,
   "metadata": {},
   "outputs": [],
   "source": []
  }
 ],
 "metadata": {
  "kernelspec": {
   "display_name": "Python 3",
   "language": "python",
   "name": "python3"
  },
  "language_info": {
   "codemirror_mode": {
    "name": "ipython",
    "version": 3
   },
   "file_extension": ".py",
   "mimetype": "text/x-python",
   "name": "python",
   "nbconvert_exporter": "python",
   "pygments_lexer": "ipython3",
   "version": "3.7.0"
  }
 },
 "nbformat": 4,
 "nbformat_minor": 4
}
