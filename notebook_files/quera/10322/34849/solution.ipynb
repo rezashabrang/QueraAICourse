{
 "cells": [
  {
   "cell_type": "markdown",
   "metadata": {},
   "source": [
    "## اضافه کردن کتابخانه‌های مورد نیاز"
   ]
  },
  {
   "cell_type": "code",
   "execution_count": 49,
   "metadata": {},
   "outputs": [],
   "source": [
    "import joblib\n",
    "import pandas as pd\n",
    "import matplotlib.pyplot as plt\n",
    "from sklearn.ensemble import RandomForestClassifier\n",
    "from sklearn.linear_model import LogisticRegression\n",
    "from sklearn.model_selection import train_test_split\n",
    "from sklearn.metrics import accuracy_score\n",
    "import sklearn.metrics as metrics"
   ]
  },
  {
   "cell_type": "markdown",
   "metadata": {},
   "source": [
    "### استفاده از مدل قبلی\n",
    "مدل جنگل تصادفی که در قسمت قبل (جنگل بازماندگان) آموزش داده‌اید را به وسیله‌ی ماژول `joblib` لود کنید. سپس ببینید که در این مدل اهمیت هر ویژگی چقدر بوده‌است.\n",
    "- صفت `feature_importances_` مدل فقط اعداد مربوط به میزان اهمیت ستون‌های `X` داده‌ای که روی آن برازش شده را در خود دارد و لازم است به وسیله‌ی ساختن یک `Pandas Series` یا حتی یک دیکشنری پایتون آنها را به اسامی ستون‌ها منتسب کنید.\n",
    "- داده‌ی `titanic` در فایل `titanic.csv` در کنار همین نوت‌بوک قرار دارد. "
   ]
  },
  {
   "cell_type": "code",
   "execution_count": 36,
   "metadata": {},
   "outputs": [],
   "source": [
    "rfc = joblib.load('model.pkl')\n",
    "Titanic = pd.read_csv('titanic.csv')\n",
    "X = Titanic.drop(['Survived','PassengerId'], axis = 1)"
   ]
  },
  {
   "cell_type": "code",
   "execution_count": 37,
   "metadata": {},
   "outputs": [],
   "source": [
    "importances_rf = pd.Series(rfc.feature_importances_, index = X.columns)"
   ]
  },
  {
   "cell_type": "code",
   "execution_count": 38,
   "metadata": {},
   "outputs": [],
   "source": [
    "sorted_importances_rf = importances_rf.sort_values(ascending = False)"
   ]
  },
  {
   "cell_type": "code",
   "execution_count": 39,
   "metadata": {},
   "outputs": [
    {
     "data": {
      "text/plain": [
       "Text(0.5, 1.0, 'Feature Importance')"
      ]
     },
     "execution_count": 39,
     "metadata": {},
     "output_type": "execute_result"
    },
    {
     "data": {
      "image/png": "[encoded data removed]",
      "text/plain": [
       "<Figure size 1600x600 with 1 Axes>"
      ]
     },
     "metadata": {
      "needs_background": "light"
     },
     "output_type": "display_data"
    }
   ],
   "source": [
    "plt.figure(figsize = (16,6),dpi = 100)\n",
    "sorted_importances_rf.plot(kind = 'barh',\n",
    "                        color = 'red',alpha = 0.5)\n",
    "plt.title(\"Feature Importance\")"
   ]
  },
  {
   "cell_type": "code",
   "execution_count": 40,
   "metadata": {},
   "outputs": [
    {
     "data": {
      "text/plain": [
       "['Sex', 'Age', 'Fare', 'Pclass']"
      ]
     },
     "execution_count": 40,
     "metadata": {},
     "output_type": "execute_result"
    }
   ],
   "source": [
    "important_features = list(sorted_importances_rf[0:4].index)\n",
    "important_features"
   ]
  },
  {
   "cell_type": "markdown",
   "metadata": {},
   "source": [
    "می‌توانید برای درک بهتر نتایج اهمیت ویژگی‌های مختلف را در به صورت یک `barplot` رسم کنید.\n",
    "\n",
    "همچنین می‌توانید بر اساس این نمودار نکاتی راجع به سیاست نجات داده شدن افراد در این سانحه بفهمید."
   ]
  },
  {
   "cell_type": "code",
   "execution_count": null,
   "metadata": {},
   "outputs": [],
   "source": []
  },
  {
   "cell_type": "markdown",
   "metadata": {},
   "source": [
    "۴ متغیر پراهمیت را به ترتیب (زیاد به کم) به صورت لیست در متغیر `important_features` ذخیره کنید."
   ]
  },
  {
   "cell_type": "code",
   "execution_count": null,
   "metadata": {},
   "outputs": [],
   "source": []
  },
  {
   "cell_type": "code",
   "execution_count": null,
   "metadata": {},
   "outputs": [],
   "source": []
  },
  {
   "cell_type": "markdown",
   "metadata": {},
   "source": [
    "## مدل رگرسیون لجستیکی\n",
    "حال می‌خواهیم با استفاده از این ۴ متغیر پراهمیت، یک مدل رگرسیون لجستیکی بسازیم. برای اینکه نتایج برای همه یکسان و قابل داوری باشند و همچنین اینکه بتوانیم دقت این مدل را با مدل‌های قبلی روی این   داده مقایسه کنیم، لازم است تا داده‌های آموزشی و آزمون یکسان باشند. پس هنگام تقسیم کردن داده‌ی تایتانیک به دو قسمت آموزش و آزمون `test_size=0.33,random_state=42` قرار دهید.\n",
    "\n",
    "سپس یک مدل رگرسیون لجستیکی بسازید و آن را روی داده‌های آموزشی برازش کنید. سپس روی داده‌های آزمون `accuracy_score` آن را بدست آورید."
   ]
  },
  {
   "cell_type": "code",
   "execution_count": 42,
   "metadata": {},
   "outputs": [],
   "source": [
    "X_2 = Titanic[['Sex','Age','Fare','Pclass']]\n",
    "y = Titanic['Survived']"
   ]
  },
  {
   "cell_type": "code",
   "execution_count": 43,
   "metadata": {},
   "outputs": [],
   "source": [
    "X_train,X_test,y_train,y_test = train_test_split(X_2,y,test_size=0.3,random_state=42)"
   ]
  },
  {
   "cell_type": "code",
   "execution_count": 46,
   "metadata": {},
   "outputs": [
    {
     "name": "stderr",
     "output_type": "stream",
     "text": [
      "c:\\users\\reza\\appdata\\local\\programs\\python\\python37\\lib\\site-packages\\sklearn\\linear_model\\logistic.py:432: FutureWarning: Default solver will be changed to 'lbfgs' in 0.22. Specify a solver to silence this warning.\n",
      "  FutureWarning)\n"
     ]
    },
    {
     "data": {
      "text/plain": [
       "LogisticRegression(C=1.0, class_weight=None, dual=False, fit_intercept=True,\n",
       "                   intercept_scaling=1, l1_ratio=None, max_iter=100,\n",
       "                   multi_class='warn', n_jobs=None, penalty='l2',\n",
       "                   random_state=None, solver='warn', tol=0.0001, verbose=0,\n",
       "                   warm_start=False)"
      ]
     },
     "execution_count": 46,
     "metadata": {},
     "output_type": "execute_result"
    }
   ],
   "source": [
    "logistic_model = LogisticRegression()\n",
    "logistic_model.fit(X_train,y_train)"
   ]
  },
  {
   "cell_type": "code",
   "execution_count": 47,
   "metadata": {},
   "outputs": [],
   "source": [
    "y_pred_logistic = logistic_model.predict(X_test)"
   ]
  },
  {
   "cell_type": "code",
   "execution_count": 50,
   "metadata": {},
   "outputs": [
    {
     "name": "stdout",
     "output_type": "stream",
     "text": [
      "accuracy of linear logistic model : 0.797752808988764\n",
      "f1_score of linear logistic model : 0.7299999999999999\n"
     ]
    }
   ],
   "source": [
    "acc_logistic = accuracy_score(y_test,y_pred_logistic)\n",
    "f1_logistic = metrics.f1_score(y_test,y_pred_logistic)\n",
    "print(\"accuracy of linear logistic model :\", acc_logistic)\n",
    "print(\"f1_score of linear logistic model :\", f1_logistic)"
   ]
  },
  {
   "cell_type": "markdown",
   "metadata": {},
   "source": [
    "می‌بینید که ما با استفاده از میزان اهمیت متغیر‌ها، توانستیم مدلی ساده‌تر و با دقت بالاتر داشته باشیم. حالا این مدل را در فایل `logistic_model.pkl` ذخیره کنید. و لیست حاوی ۴ متغیر مهم را در `important_features.pkl` ذخیره کنید."
   ]
  },
  {
   "cell_type": "code",
   "execution_count": 51,
   "metadata": {},
   "outputs": [
    {
     "data": {
      "text/plain": [
       "['important_features.pkl']"
      ]
     },
     "execution_count": 51,
     "metadata": {},
     "output_type": "execute_result"
    }
   ],
   "source": [
    "joblib.dump(logistic_model,'logistic_model.pkl')\n",
    "joblib.dump(important_features,'important_features.pkl')"
   ]
  },
  {
   "cell_type": "markdown",
   "metadata": {},
   "source": [
    "## ارسال پاسخ\n",
    "ابتدا نوت‌بوک را ذخیره و سپس گزینه‌ی ارسال پاسخ را انتخاب کنید تا مدل و لیست متغیر‌های مهم به همراه این نوت‌بوک ارسال شود."
   ]
  },
  {
   "cell_type": "code",
   "execution_count": null,
   "metadata": {},
   "outputs": [],
   "source": []
  }
 ],
 "metadata": {
  "kernelspec": {
   "display_name": "Python 3",
   "language": "python",
   "name": "python3"
  },
  "language_info": {
   "codemirror_mode": {
    "name": "ipython",
    "version": 3
   },
   "file_extension": ".py",
   "mimetype": "text/x-python",
   "name": "python",
   "nbconvert_exporter": "python",
   "pygments_lexer": "ipython3",
   "version": "3.7.0"
  }
 },
 "nbformat": 4,
 "nbformat_minor": 4
}
