{
 "cells": [
  {
   "cell_type": "markdown",
   "metadata": {},
   "source": [
    "# بررسی آلودگی هوای آمریکا"
   ]
  },
  {
   "cell_type": "markdown",
   "metadata": {},
   "source": [
    "در این تمرین می‌خواهیم با داده‌های آلودگی هوای آمریکا در سال ۲۰۱۸ که پیش‌تر در درس‌نامه قبلی با آن کار کردیم، بیشتر کار کنیم و سوالاتی را از آن جواب دهیم."
   ]
  },
  {
   "cell_type": "markdown",
   "metadata": {},
   "source": [
    "ابتدا داده را از فایل csv بخوانید و در متغیر aqi_data بریزید."
   ]
  },
  {
   "cell_type": "code",
   "execution_count": 2,
   "metadata": {},
   "outputs": [],
   "source": [
    "import pandas as pd"
   ]
  },
  {
   "cell_type": "code",
   "execution_count": 3,
   "metadata": {},
   "outputs": [],
   "source": [
    "aqi_data = pd.read_csv('AQI2018.csv',sep = ',')"
   ]
  },
  {
   "cell_type": "markdown",
   "metadata": {},
   "source": [
    "در ابتدا می‌خواهیم ببینیم در چه تاریخی میانگین آلودگی هوای آمریکا بیشترین مقدار بوده است. ده تاریخی را که بیشترین میانگین آلودگی هوا را در این سال داشته‌اند، به ترتیب میزان آلودگی، در فایلی به نام dates.csv ذخیره کنید.\n",
    "\n",
    "\n",
    "توجه کنید که این فایل دو ستون و ده سطر باید داشته باشد که ستون اول تاریخ‌هایی که بیشترین آلودگی هوا را دارند(به ترتیب) باشند و در ستون دوم میانگین آلودگی هوا در آن روز برای تاریخ مربوطه قرار بگیرد."
   ]
  },
  {
   "cell_type": "code",
   "execution_count": 48,
   "metadata": {},
   "outputs": [],
   "source": [
    "USPoll = aqi_data.groupby(['Date']).AQI.mean()\n",
    "USPoll = pd.DataFrame(USPoll)\n",
    "USPoll = USPoll.sort_values('AQI', ascending = False)\n",
    "USPollTop10 = USPoll[:10]\n",
    "USPollTop10.to_csv('dates.csv', header = False)"
   ]
  },
  {
   "cell_type": "markdown",
   "metadata": {},
   "source": [
    "در ادامه می‌خواهیم بدانیم ده ایالتی که بیشترین میزان «میانه» آلودگی را در سال ۲۰۱۸ داشته‌اند، کدام ایالت‌ها هستند. \n",
    "\n",
    "مانند قسمت قبل، نام ایالت‌ها را به همراه میانه شاخص آلودگی هوای آن ایالت در فایلی به نام states.csv ذخیره کنید. این فایل نیز باید دو ستون و ده سطر داشته باشد."
   ]
  },
  {
   "cell_type": "code",
   "execution_count": 31,
   "metadata": {},
   "outputs": [],
   "source": [
    "statePoll = aqi_data.groupby(['State Name']).AQI.median()\n",
    "statePoll = pd.DataFrame(statePoll)\n",
    "statePoll = statePoll.sort_values('AQI', ascending = False)\n",
    "statePollTop10 = statePoll[:10]\n",
    "statePollTop10.to_csv('states.csv', header = False)"
   ]
  },
  {
   "cell_type": "markdown",
   "metadata": {},
   "source": [
    "می‌خواهیم بدانیم در منطقه San Diego بیشترین آلاینده‌ها در این سال چه آلاینده‌هایی بوده‌اند.\n",
    "\n",
    "در فایلی به نام parameters.csv که دو ستون دارد و ستون اول نام آلاینده‌ها و ستون دوم تعداد روزهایی است که آلاینده مذکور در ستون اول، الاینده اصلی بوده، داده‌ها را ذخیره کنید.\n"
   ]
  },
  {
   "cell_type": "code",
   "execution_count": 47,
   "metadata": {},
   "outputs": [],
   "source": [
    "aqidf = pd.DataFrame(aqi_data)\n",
    "diego = aqidf.loc[aqi_data['county Name'] == 'San Diego',['Date','Defining Parameter']]\n",
    "diegoPar = diego.groupby(['Defining Parameter']).Date.size()\n",
    "diegoPar = pd.DataFrame(diegoPar)\n",
    "diegoPar = diegoPar.sort_values('Date',ascending = False)\n",
    "diegoPar.to_csv('parameters.csv', header = False)"
   ]
  },
  {
   "cell_type": "code",
   "execution_count": null,
   "metadata": {},
   "outputs": [],
   "source": []
  }
 ],
 "metadata": {
  "kernelspec": {
   "display_name": "Python 3",
   "language": "python",
   "name": "python3"
  },
  "language_info": {
   "codemirror_mode": {
    "name": "ipython",
    "version": 3
   },
   "file_extension": ".py",
   "mimetype": "text/x-python",
   "name": "python",
   "nbconvert_exporter": "python",
   "pygments_lexer": "ipython3",
   "version": "3.8.1"
  }
 },
 "nbformat": 4,
 "nbformat_minor": 4
}
